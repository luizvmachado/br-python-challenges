{
  "cells": [
    {
      "cell_type": "markdown",
      "metadata": {
        "id": "view-in-github",
        "colab_type": "text"
      },
      "source": [
        "<a href=\"https://colab.research.google.com/github/luizvmachado/br-python-challenges/blob/master/Desafio_04.ipynb\" target=\"_parent\"><img src=\"https://colab.research.google.com/assets/colab-badge.svg\" alt=\"Open In Colab\"/></a>"
      ]
    },
    {
      "cell_type": "markdown",
      "metadata": {
        "id": "dOqcKUYZf6JW"
      },
      "source": [
        "### Desafio 4\n",
        "\n",
        "Escreva uma função cuja entrada é uma string e a saída é outra string com as palavras em ordem inversa.\n",
        "\n",
        "Exemplo:\n",
        "\n",
        "inverte_texto(\"Python é legal\") ➞ \"legal é Python\""
      ]
    },
    {
      "cell_type": "code",
      "source": [
        "def inverterstr(texto):\n",
        "  listatxt = (texto.split(\" \"))\n",
        "  listatxt1 = list(reversed(listatxt))\n",
        "  listatxt2 = \" \".join(listatxt1)\n",
        "  return listatxt2\n",
        "  "
      ],
      "metadata": {
        "id": "wBpCuoi5xvCL"
      },
      "execution_count": 20,
      "outputs": []
    },
    {
      "cell_type": "code",
      "source": [
        "inverterstr(\"Eu sou o Luiz estudante\")"
      ],
      "metadata": {
        "id": "cdW7SH9-zNM0",
        "outputId": "4610312b-ae2b-4c20-f1c2-379f2c4f3680",
        "colab": {
          "base_uri": "https://localhost:8080/",
          "height": 53
        }
      },
      "execution_count": 21,
      "outputs": [
        {
          "output_type": "stream",
          "name": "stdout",
          "text": [
            "['python', 'de', 'estudante', 'Luiz', 'o', 'sou', 'Eu']\n"
          ]
        },
        {
          "output_type": "execute_result",
          "data": {
            "application/vnd.google.colaboratory.intrinsic+json": {
              "type": "string"
            },
            "text/plain": [
              "'python de estudante Luiz o sou Eu'"
            ]
          },
          "metadata": {},
          "execution_count": 21
        }
      ]
    },
    {
      "cell_type": "markdown",
      "source": [
        "## TENTANDO FAZER A FUNÇÃO EM SÓ 1 LINHA"
      ],
      "metadata": {
        "id": "8Hq-pU170eas"
      }
    },
    {
      "cell_type": "code",
      "source": [
        "def invert1linha(texto):\n",
        "  listatxt = (\" \".join(list(reversed(texto.split(\" \")))))\n",
        "  return listatxt\n",
        "texto = str(input(\"Digite seu texto: \"))\n",
        "invert1linha(texto)\n",
        "\n",
        "\n",
        "\n"
      ],
      "metadata": {
        "id": "GEmCa6G8z610",
        "outputId": "105e40a5-27c6-4bfe-d3a0-1a70a0e9ba1a",
        "colab": {
          "base_uri": "https://localhost:8080/",
          "height": 53
        }
      },
      "execution_count": 28,
      "outputs": [
        {
          "name": "stdout",
          "output_type": "stream",
          "text": [
            "Digite seu texto: eu sou o luiz \n"
          ]
        },
        {
          "output_type": "execute_result",
          "data": {
            "application/vnd.google.colaboratory.intrinsic+json": {
              "type": "string"
            },
            "text/plain": [
              "' luiz o sou eu'"
            ]
          },
          "metadata": {},
          "execution_count": 28
        }
      ]
    }
  ],
  "metadata": {
    "anaconda-cloud": {},
    "colab": {
      "name": "Desafio 4.ipynb",
      "provenance": [],
      "include_colab_link": true
    },
    "kernelspec": {
      "display_name": "Python 3",
      "language": "python",
      "name": "python3"
    },
    "language_info": {
      "codemirror_mode": {
        "name": "ipython",
        "version": 3
      },
      "file_extension": ".py",
      "mimetype": "text/x-python",
      "name": "python",
      "nbconvert_exporter": "python",
      "pygments_lexer": "ipython3",
      "version": "3.7.9"
    }
  },
  "nbformat": 4,
  "nbformat_minor": 0
}