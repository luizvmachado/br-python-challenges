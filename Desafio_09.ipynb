{
  "cells": [
    {
      "cell_type": "markdown",
      "metadata": {
        "id": "view-in-github",
        "colab_type": "text"
      },
      "source": [
        "<a href=\"https://colab.research.google.com/github/luizvmachado/br-python-challenges/blob/master/Desafio_09.ipynb\" target=\"_parent\"><img src=\"https://colab.research.google.com/assets/colab-badge.svg\" alt=\"Open In Colab\"/></a>"
      ]
    },
    {
      "cell_type": "markdown",
      "metadata": {
        "id": "HpvTpUBGf6Jr"
      },
      "source": [
        "### Desafio 9\n",
        "\n",
        "Escreva uma função que retorne a soma dos múltiplos de 3 e 5 entre 0 e um número limite, que vai ser utilizado como parâmetro. \\\n",
        "Por exemplo, se o limite for 20, ele retornará a soma de 3, 5, 6, 9, 10, 12, 15, 18, 20."
      ]
    },
    {
      "cell_type": "code",
      "execution_count": null,
      "metadata": {
        "id": "195C6bw-f6Js"
      },
      "outputs": [],
      "source": [
        "# EXEMPLO NÃO CONDIZ COM O QUE É PEDIDO NO ENUNCIADO. MULTIPLOS DE 3 E 5 SÃO MULTIPLOS DE 15. O EXEMPLO DIZ RESPEITO A MULTIPLOS DE 3 OU 5."
      ]
    },
    {
      "cell_type": "code",
      "source": [
        "def mult(limite):\n",
        "  lista = []\n",
        "  listamultiplos = []\n",
        "  limite = limite + 1\n",
        "  for i in range(0, limite):\n",
        "      lista.append(i)\n",
        "  for numero in range(0,limite):\n",
        "    if (numero % 3 == 0) and (numero % 5 == 0):\n",
        "          listamultiplos.append(numero)\n",
        "  return(sum(listamultiplos))\n",
        "\n"
      ],
      "metadata": {
        "id": "gxFZoVEx6cpc"
      },
      "execution_count": 9,
      "outputs": []
    },
    {
      "cell_type": "code",
      "source": [
        "mult(180)"
      ],
      "metadata": {
        "id": "FAP9N8EW6mpg",
        "outputId": "0a380b70-6bdb-4159-a2bd-90103b1e79b0",
        "colab": {
          "base_uri": "https://localhost:8080/"
        }
      },
      "execution_count": 10,
      "outputs": [
        {
          "output_type": "execute_result",
          "data": {
            "text/plain": [
              "1170"
            ]
          },
          "metadata": {},
          "execution_count": 10
        }
      ]
    },
    {
      "cell_type": "code",
      "source": [
        "mult(1000)"
      ],
      "metadata": {
        "id": "0FNsvFxa7Djp",
        "outputId": "5f20bb21-3971-4a1b-ba04-3e7f13eddedb",
        "colab": {
          "base_uri": "https://localhost:8080/"
        }
      },
      "execution_count": 11,
      "outputs": [
        {
          "output_type": "execute_result",
          "data": {
            "text/plain": [
              "33165"
            ]
          },
          "metadata": {},
          "execution_count": 11
        }
      ]
    }
  ],
  "metadata": {
    "anaconda-cloud": {},
    "colab": {
      "name": "Desafio 9.ipynb",
      "provenance": [],
      "include_colab_link": true
    },
    "kernelspec": {
      "display_name": "Python 3",
      "language": "python",
      "name": "python3"
    },
    "language_info": {
      "codemirror_mode": {
        "name": "ipython",
        "version": 3
      },
      "file_extension": ".py",
      "mimetype": "text/x-python",
      "name": "python",
      "nbconvert_exporter": "python",
      "pygments_lexer": "ipython3",
      "version": "3.7.9"
    }
  },
  "nbformat": 4,
  "nbformat_minor": 0
}