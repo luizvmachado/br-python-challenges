{
  "cells": [
    {
      "cell_type": "markdown",
      "metadata": {
        "id": "view-in-github",
        "colab_type": "text"
      },
      "source": [
        "<a href=\"https://colab.research.google.com/github/luizvmachado/br-python-challenges/blob/master/Desafio_09.ipynb\" target=\"_parent\"><img src=\"https://colab.research.google.com/assets/colab-badge.svg\" alt=\"Open In Colab\"/></a>"
      ]
    },
    {
      "cell_type": "markdown",
      "metadata": {
        "id": "HpvTpUBGf6Jr"
      },
      "source": [
        "### Desafio 9\n",
        "\n",
        "Escreva uma função que retorne a soma dos múltiplos de 3 e 5 entre 0 e um número limite, que vai ser utilizado como parâmetro. \\\n",
        "Por exemplo, se o limite for 20, ele retornará a soma de 3, 5, 6, 9, 10, 12, 15, 18, 20."
      ]
    },
    {
      "cell_type": "code",
      "execution_count": null,
      "metadata": {
        "id": "195C6bw-f6Js"
      },
      "outputs": [],
      "source": [
        "# EXEMPLO NÃO CONDIZ COM O QUE É PEDIDO NO ENUNCIADO. MULTIPLOS DE 3 E 5 SÃO MULTIPLOS DE 15. O EXEMPLO DIZ RESPEITO A MULTIPLOS DE 3 OU 5."
      ]
    },
    {
      "cell_type": "code",
      "execution_count": 20,
      "metadata": {
        "colab": {
          "base_uri": "https://localhost:8080/"
        },
        "id": "a_6aqcKp6wrN",
        "outputId": "1a153107-4621-474a-ce71-4ee329997ae2"
      },
      "outputs": [
        {
          "name": "stdout",
          "output_type": "stream",
          "text": [
            "Digite o limite do Intervalo: 150\n"
          ]
        }
      ],
      "source": [
        "lista = []\n",
        "listamultiplos = []\n",
        "limite = int(input(\"Digite o limite do Intervalo: \"))\n",
        "limite = limite + 1\n",
        "for i in range(0, limite):\n",
        "    lista.append(i)\n",
        "  "
      ]
    },
    {
      "cell_type": "code",
      "source": [
        "for numero in range(0,limite):\n",
        "  if (numero % 3 == 0) and (numero % 5 == 0):\n",
        "    listamultiplos.append(numero)\n",
        "somatorio = sum(listamultiplos)"
      ],
      "metadata": {
        "id": "DECBzWzncrYh"
      },
      "execution_count": 21,
      "outputs": []
    },
    {
      "cell_type": "code",
      "source": [
        "somatorio = sum(listamultiplos)\n",
        "print(f\"A soma dos múltiplos de 3 e 5 de 0 até {limite-1} é {somatorio}\")"
      ],
      "metadata": {
        "id": "5tmo0SCTcOEZ",
        "outputId": "21f78d94-6b63-4226-c4f3-028923a0e104",
        "colab": {
          "base_uri": "https://localhost:8080/"
        }
      },
      "execution_count": 26,
      "outputs": [
        {
          "output_type": "stream",
          "name": "stdout",
          "text": [
            "A soma dos múltiplos de 3 e 5 de 0 até 150 é 825\n"
          ]
        }
      ]
    }
  ],
  "metadata": {
    "anaconda-cloud": {},
    "colab": {
      "name": "Desafio 9.ipynb",
      "provenance": [],
      "include_colab_link": true
    },
    "kernelspec": {
      "display_name": "Python 3",
      "language": "python",
      "name": "python3"
    },
    "language_info": {
      "codemirror_mode": {
        "name": "ipython",
        "version": 3
      },
      "file_extension": ".py",
      "mimetype": "text/x-python",
      "name": "python",
      "nbconvert_exporter": "python",
      "pygments_lexer": "ipython3",
      "version": "3.7.9"
    }
  },
  "nbformat": 4,
  "nbformat_minor": 0
}