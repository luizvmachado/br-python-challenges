{
  "cells": [
    {
      "cell_type": "markdown",
      "metadata": {
        "id": "view-in-github",
        "colab_type": "text"
      },
      "source": [
        "<a href=\"https://colab.research.google.com/github/luizvmachado/br-python-challenges/blob/master/Desafio_08.ipynb\" target=\"_parent\"><img src=\"https://colab.research.google.com/assets/colab-badge.svg\" alt=\"Open In Colab\"/></a>"
      ]
    },
    {
      "cell_type": "markdown",
      "metadata": {
        "id": "o3tkeMDNf6Jo"
      },
      "source": [
        "### Desafio 8\n",
        "\n",
        "Escreva um script Python para encontrar as 10 palavras mais longas em um arquivo de texto.\n",
        "O arquivo .txt está localizado na mesma pasta do projeto (**texto.txt**)."
      ]
    },
    {
      "cell_type": "code",
      "execution_count": null,
      "metadata": {
        "id": "EknxjSG0f6Jo"
      },
      "outputs": [],
      "source": [
        "# Seu código"
      ]
    },
    {
      "cell_type": "code",
      "source": [
        "lista = str(list(open(\"texto.txt\"))) \n",
        "def limpartexto(lista):       #LIMPAR PONTUACAO. Tem como fazer 1 replace pra tudo ??\n",
        "  lista=lista.replace(\",\",\"\")\n",
        "  lista=lista.replace(\".\",\" \")\n",
        "  lista=lista.replace(\"\\\\n\",\"\")\n",
        "  lista=lista.replace(\"'\",\"\")\n",
        "  lista=lista.replace(\"(\",\"\")\n",
        "  lista=lista.replace(\")\",\"\")\n",
        "  return lista\n",
        "\n",
        "def separarpalavras(lista):    #SEPARAR CADA PALAVRA EM UM ELEMENTO DA LISTA\n",
        "  listatxt = (lista.split(\" \"))\n",
        "  return (listatxt)\n",
        "\n",
        "def ordenarpalavras(listatxt): #ORDENAR E MOSTRAR AS 10 MAIORES PALAVRAS\n",
        "  lista_ordenada = sorted(listatxt, key=len, reverse=True)\n",
        "  return lista_ordenada[0:10]\n",
        "\n",
        "\n",
        "limpartexto(lista)\n",
        "separarpalavras(lista)\n",
        "ordenarpalavras(listatxt)"
      ],
      "metadata": {
        "id": "B1Ya7wayYVjI",
        "outputId": "590487b9-8b4a-4f60-af0a-e06aa9795dda",
        "colab": {
          "base_uri": "https://localhost:8080/"
        }
      },
      "execution_count": 46,
      "outputs": [
        {
          "output_type": "execute_result",
          "data": {
            "text/plain": [
              "['general-purpose',\n",
              " 'object-oriented',\n",
              " 'comprehensive',\n",
              " 'intermediate',\n",
              " 'interpreted',\n",
              " 'programming',\n",
              " 'readability',\n",
              " 'programmers',\n",
              " 'programming',\n",
              " 'programming']"
            ]
          },
          "metadata": {},
          "execution_count": 46
        }
      ]
    }
  ],
  "metadata": {
    "anaconda-cloud": {},
    "colab": {
      "name": "Desafio 8.ipynb",
      "provenance": [],
      "include_colab_link": true
    },
    "kernelspec": {
      "display_name": "Python 3",
      "language": "python",
      "name": "python3"
    },
    "language_info": {
      "codemirror_mode": {
        "name": "ipython",
        "version": 3
      },
      "file_extension": ".py",
      "mimetype": "text/x-python",
      "name": "python",
      "nbconvert_exporter": "python",
      "pygments_lexer": "ipython3",
      "version": "3.7.9"
    }
  },
  "nbformat": 4,
  "nbformat_minor": 0
}